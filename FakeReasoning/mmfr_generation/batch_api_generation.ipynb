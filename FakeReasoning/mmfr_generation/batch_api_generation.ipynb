{
 "cells": [
  {
   "cell_type": "code",
   "execution_count": null,
   "metadata": {},
   "outputs": [],
   "source": [
    "import os\n",
    "os.environ['OPENAI_API_KEY'] = ''\n",
    "from openai import OpenAI\n",
    "\n",
    "client = OpenAI()"
   ]
  },
  {
   "cell_type": "code",
   "execution_count": null,
   "metadata": {},
   "outputs": [
    {
     "name": "stdout",
     "output_type": "stream",
     "text": [
      "batchinput-00041.jsonl is created.\n",
      "batchinput-00042.jsonl is created.\n",
      "batchinput-00043.jsonl is created.\n",
      "batchinput-00044.jsonl is created.\n",
      "batchinput-00045.jsonl is created.\n",
      "batchinput-00046.jsonl is created.\n"
     ]
    }
   ],
   "source": [
    "# upload jsonl files\n",
    "jsonl_path = \"\"  # the folder path of your jsonl files\n",
    "for jsonl in os.listdir(jsonl_path):\n",
    "    if jsonl.endswith('.jsonl'):\n",
    "      # 上传文件\n",
    "      batch_input_file = client.files.create(\n",
    "        file=open(os.path.join(jsonl_path, jsonl), \"rb\"),\n",
    "        purpose=\"batch\"\n",
    "      )\n",
    "      batch_input_file_id = batch_input_file.id\n",
    "\n",
    "      # 创建进程\n",
    "      client.batches.create(\n",
    "          input_file_id=batch_input_file_id,\n",
    "          endpoint=\"/v1/chat/completions\",\n",
    "          completion_window=\"24h\",\n",
    "          metadata={\n",
    "            \"description\": f\"{jsonl}\"\n",
    "          }\n",
    "      )\n",
    "      print(f\"{jsonl} is created.\")"
   ]
  },
  {
   "cell_type": "code",
   "execution_count": null,
   "metadata": {},
   "outputs": [
    {
     "name": "stdout",
     "output_type": "stream",
     "text": [
      "Batch(id='batch_683efd82fcbc8190be202b1e2e1170dc', completion_window='24h', created_at=1748958594, endpoint='/v1/chat/completions', input_file_id='file-EpEKUWYaMHwrs27SjgDuFs', object='batch', status='completed', cancelled_at=None, cancelling_at=None, completed_at=1748959218, error_file_id=None, errors=None, expired_at=None, expires_at=1749044994, failed_at=None, finalizing_at=1748959200, in_progress_at=1748958596, metadata={'description': 'batchinput-00000.jsonl'}, output_file_id='file-Jx45mUERmnQU2T2QjP9Yxx', request_counts=BatchRequestCounts(completed=50, failed=0, total=50))\n",
      "batchinput-00000.jsonl is completed\n"
     ]
    }
   ],
   "source": [
    "# check the status of your uploaded batches\n",
    "\n",
    "for batch in client.batches.list().data:\n",
    "    print(batch)\n",
    "    print(f\"{batch.metadata['description']} is {batch.status}\")"
   ]
  },
  {
   "cell_type": "code",
   "execution_count": null,
   "metadata": {},
   "outputs": [
    {
     "name": "stdout",
     "output_type": "stream",
     "text": [
      "batchinput-00000.jsonl is downloaded.\n"
     ]
    }
   ],
   "source": [
    "# download the output files of completed batches\n",
    "\n",
    "output_path = \"\"\n",
    "if not os.path.exists(output_path):\n",
    "    os.makedirs(output_path)\n",
    "for batch in client.batches.list(limit=1).data:\n",
    "    if batch.status == \"completed\" and batch.output_file_id is not None:\n",
    "        if f\"{batch.metadata['description']}\" in os.listdir(output_path): \n",
    "            continue\n",
    "        else:\n",
    "            content = client.files.content(batch.output_file_id)\n",
    "            dict_strings = content.text.strip().split('\\n')\n",
    "            \n",
    "            save_path = f'{output_path}/{batch.metadata['description']}' \n",
    "            with open(save_path, 'w') as jsonl_file:\n",
    "                for dict_string in dict_strings:\n",
    "                    jsonl_file.write(dict_string + '\\n')\n",
    "            print(f\"{batch.metadata['description']} is downloaded.\")\n",
    "    # else:\n",
    "    #     print(f\"{batch.id} is {batch.status}.\")\n"
   ]
  }
 ],
 "metadata": {
  "kernelspec": {
   "display_name": "gpt",
   "language": "python",
   "name": "python3"
  },
  "language_info": {
   "codemirror_mode": {
    "name": "ipython",
    "version": 3
   },
   "file_extension": ".py",
   "mimetype": "text/x-python",
   "name": "python",
   "nbconvert_exporter": "python",
   "pygments_lexer": "ipython3",
   "version": "3.12.4"
  }
 },
 "nbformat": 4,
 "nbformat_minor": 2
}
